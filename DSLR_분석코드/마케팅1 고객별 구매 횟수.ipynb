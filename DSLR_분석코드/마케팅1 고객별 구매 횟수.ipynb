{
 "cells": [
  {
   "cell_type": "code",
   "execution_count": 12,
   "metadata": {},
   "outputs": [],
   "source": [
    "import pandas as pd\n",
    "import matplotlib.pyplot as plt"
   ]
  },
  {
   "cell_type": "code",
   "execution_count": 2,
   "metadata": {},
   "outputs": [
    {
     "name": "stderr",
     "output_type": "stream",
     "text": [
      "c:\\python38-32\\lib\\site-packages\\IPython\\core\\interactiveshell.py:3145: DtypeWarning: Columns (4) have mixed types.Specify dtype option on import or set low_memory=False.\n",
      "  has_raised = await self.run_ast_nodes(code_ast.body, cell_name,\n"
     ]
    }
   ],
   "source": [
    "df_pdde = pd.read_csv('LPOINT_BIG_COMP_02_PDDE.csv')\n",
    "df_clac = pd.read_csv('LPOINT_BIG_COMP_04_PD_CLAC.csv')\n",
    "df_2 = df_pdde[['cust', 'pd_c', 'de_dt', 'buy_ct']]\n",
    "df_24 = pd.merge(df_2, df_clac, how='left', on='pd_c')"
   ]
  },
  {
   "cell_type": "code",
   "execution_count": 3,
   "metadata": {},
   "outputs": [
    {
     "data": {
      "text/html": [
       "<div>\n",
       "<style scoped>\n",
       "    .dataframe tbody tr th:only-of-type {\n",
       "        vertical-align: middle;\n",
       "    }\n",
       "\n",
       "    .dataframe tbody tr th {\n",
       "        vertical-align: top;\n",
       "    }\n",
       "\n",
       "    .dataframe thead th {\n",
       "        text-align: right;\n",
       "    }\n",
       "</style>\n",
       "<table border=\"1\" class=\"dataframe\">\n",
       "  <thead>\n",
       "    <tr style=\"text-align: right;\">\n",
       "      <th></th>\n",
       "      <th>cust</th>\n",
       "      <th>pd_c</th>\n",
       "      <th>de_dt</th>\n",
       "      <th>buy_ct</th>\n",
       "      <th>pd_nm</th>\n",
       "      <th>clac_hlv_nm</th>\n",
       "      <th>clac_mcls_nm</th>\n",
       "    </tr>\n",
       "  </thead>\n",
       "  <tbody>\n",
       "    <tr>\n",
       "      <th>0</th>\n",
       "      <td>M430112881</td>\n",
       "      <td>PD0290</td>\n",
       "      <td>20210101</td>\n",
       "      <td>1</td>\n",
       "      <td>남성티셔츠</td>\n",
       "      <td>남성의류</td>\n",
       "      <td>남성의류상의</td>\n",
       "    </tr>\n",
       "    <tr>\n",
       "      <th>1</th>\n",
       "      <td>M646853852</td>\n",
       "      <td>PD1369</td>\n",
       "      <td>20210101</td>\n",
       "      <td>1</td>\n",
       "      <td>기타주방일회용품</td>\n",
       "      <td>주방잡화</td>\n",
       "      <td>주방일회용품</td>\n",
       "    </tr>\n",
       "    <tr>\n",
       "      <th>2</th>\n",
       "      <td>M430112881</td>\n",
       "      <td>PD0290</td>\n",
       "      <td>20210101</td>\n",
       "      <td>1</td>\n",
       "      <td>남성티셔츠</td>\n",
       "      <td>남성의류</td>\n",
       "      <td>남성의류상의</td>\n",
       "    </tr>\n",
       "    <tr>\n",
       "      <th>3</th>\n",
       "      <td>M430112881</td>\n",
       "      <td>PD0290</td>\n",
       "      <td>20210101</td>\n",
       "      <td>1</td>\n",
       "      <td>남성티셔츠</td>\n",
       "      <td>남성의류</td>\n",
       "      <td>남성의류상의</td>\n",
       "    </tr>\n",
       "    <tr>\n",
       "      <th>4</th>\n",
       "      <td>M430112881</td>\n",
       "      <td>PD0290</td>\n",
       "      <td>20210101</td>\n",
       "      <td>1</td>\n",
       "      <td>남성티셔츠</td>\n",
       "      <td>남성의류</td>\n",
       "      <td>남성의류상의</td>\n",
       "    </tr>\n",
       "    <tr>\n",
       "      <th>...</th>\n",
       "      <td>...</td>\n",
       "      <td>...</td>\n",
       "      <td>...</td>\n",
       "      <td>...</td>\n",
       "      <td>...</td>\n",
       "      <td>...</td>\n",
       "      <td>...</td>\n",
       "    </tr>\n",
       "    <tr>\n",
       "      <th>4381738</th>\n",
       "      <td>M533286446</td>\n",
       "      <td>PD0507</td>\n",
       "      <td>20211231</td>\n",
       "      <td>1</td>\n",
       "      <td>백화점/마트모바일상품권</td>\n",
       "      <td>상품권</td>\n",
       "      <td>모바일상품권</td>\n",
       "    </tr>\n",
       "    <tr>\n",
       "      <th>4381739</th>\n",
       "      <td>M533286446</td>\n",
       "      <td>PD0507</td>\n",
       "      <td>20211231</td>\n",
       "      <td>1</td>\n",
       "      <td>백화점/마트모바일상품권</td>\n",
       "      <td>상품권</td>\n",
       "      <td>모바일상품권</td>\n",
       "    </tr>\n",
       "    <tr>\n",
       "      <th>4381740</th>\n",
       "      <td>M533286446</td>\n",
       "      <td>PD0507</td>\n",
       "      <td>20211231</td>\n",
       "      <td>1</td>\n",
       "      <td>백화점/마트모바일상품권</td>\n",
       "      <td>상품권</td>\n",
       "      <td>모바일상품권</td>\n",
       "    </tr>\n",
       "    <tr>\n",
       "      <th>4381741</th>\n",
       "      <td>M533286446</td>\n",
       "      <td>PD0507</td>\n",
       "      <td>20211231</td>\n",
       "      <td>1</td>\n",
       "      <td>백화점/마트모바일상품권</td>\n",
       "      <td>상품권</td>\n",
       "      <td>모바일상품권</td>\n",
       "    </tr>\n",
       "    <tr>\n",
       "      <th>4381742</th>\n",
       "      <td>M533286446</td>\n",
       "      <td>PD0507</td>\n",
       "      <td>20211231</td>\n",
       "      <td>1</td>\n",
       "      <td>백화점/마트모바일상품권</td>\n",
       "      <td>상품권</td>\n",
       "      <td>모바일상품권</td>\n",
       "    </tr>\n",
       "  </tbody>\n",
       "</table>\n",
       "<p>4381743 rows × 7 columns</p>\n",
       "</div>"
      ],
      "text/plain": [
       "               cust    pd_c     de_dt  buy_ct         pd_nm clac_hlv_nm  \\\n",
       "0        M430112881  PD0290  20210101       1         남성티셔츠        남성의류   \n",
       "1        M646853852  PD1369  20210101       1      기타주방일회용품        주방잡화   \n",
       "2        M430112881  PD0290  20210101       1         남성티셔츠        남성의류   \n",
       "3        M430112881  PD0290  20210101       1         남성티셔츠        남성의류   \n",
       "4        M430112881  PD0290  20210101       1         남성티셔츠        남성의류   \n",
       "...             ...     ...       ...     ...           ...         ...   \n",
       "4381738  M533286446  PD0507  20211231       1  백화점/마트모바일상품권         상품권   \n",
       "4381739  M533286446  PD0507  20211231       1  백화점/마트모바일상품권         상품권   \n",
       "4381740  M533286446  PD0507  20211231       1  백화점/마트모바일상품권         상품권   \n",
       "4381741  M533286446  PD0507  20211231       1  백화점/마트모바일상품권         상품권   \n",
       "4381742  M533286446  PD0507  20211231       1  백화점/마트모바일상품권         상품권   \n",
       "\n",
       "        clac_mcls_nm  \n",
       "0             남성의류상의  \n",
       "1             주방일회용품  \n",
       "2             남성의류상의  \n",
       "3             남성의류상의  \n",
       "4             남성의류상의  \n",
       "...              ...  \n",
       "4381738       모바일상품권  \n",
       "4381739       모바일상품권  \n",
       "4381740       모바일상품권  \n",
       "4381741       모바일상품권  \n",
       "4381742       모바일상품권  \n",
       "\n",
       "[4381743 rows x 7 columns]"
      ]
     },
     "execution_count": 3,
     "metadata": {},
     "output_type": "execute_result"
    }
   ],
   "source": [
    "df_24"
   ]
  },
  {
   "cell_type": "code",
   "execution_count": 10,
   "metadata": {},
   "outputs": [
    {
     "data": {
      "text/plain": [
       "count    26917.000000\n",
       "mean       162.787198\n",
       "std        227.442772\n",
       "min          1.000000\n",
       "25%         30.000000\n",
       "50%         88.000000\n",
       "75%        214.000000\n",
       "max      12448.000000\n",
       "dtype: float64"
      ]
     },
     "execution_count": 10,
     "metadata": {},
     "output_type": "execute_result"
    }
   ],
   "source": [
    "df_24.groupby('cust').size().sort_values(ascending=False).describe()"
   ]
  },
  {
   "cell_type": "code",
   "execution_count": 15,
   "metadata": {},
   "outputs": [
    {
     "data": {
      "text/plain": [
       "{'whiskers': [<matplotlib.lines.Line2D at 0xf578d00>,\n",
       "  <matplotlib.lines.Line2D at 0xf578eb0>],\n",
       " 'caps': [<matplotlib.lines.Line2D at 0xf588088>,\n",
       "  <matplotlib.lines.Line2D at 0xf588238>],\n",
       " 'boxes': [<matplotlib.lines.Line2D at 0xf578b50>],\n",
       " 'medians': [<matplotlib.lines.Line2D at 0xf5883e8>],\n",
       " 'fliers': [<matplotlib.lines.Line2D at 0xf588568>],\n",
       " 'means': []}"
      ]
     },
     "execution_count": 15,
     "metadata": {},
     "output_type": "execute_result"
    },
    {
     "data": {
      "image/png": "[encoded data removed]",
      "text/plain": [
       "<Figure size 432x288 with 1 Axes>"
      ]
     },
     "metadata": {
      "needs_background": "light"
     },
     "output_type": "display_data"
    }
   ],
   "source": [
    "plt.boxplot(df_24.groupby('cust').size().sort_values(ascending=False)[2:])"
   ]
  },
  {
   "cell_type": "code",
   "execution_count": null,
   "metadata": {},
   "outputs": [],
   "source": []
  }
 ],
 "metadata": {
  "kernelspec": {
   "display_name": "Python 3",
   "language": "python",
   "name": "python3"
  },
  "language_info": {
   "codemirror_mode": {
    "name": "ipython",
    "version": 3
   },
   "file_extension": ".py",
   "mimetype": "text/x-python",
   "name": "python",
   "nbconvert_exporter": "python",
   "pygments_lexer": "ipython3",
   "version": "3.8.2"
  }
 },
 "nbformat": 4,
 "nbformat_minor": 4
}
