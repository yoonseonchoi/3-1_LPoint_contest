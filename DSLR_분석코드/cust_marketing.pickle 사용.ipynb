{
 "cells": [
  {
   "cell_type": "code",
   "execution_count": 1,
   "metadata": {},
   "outputs": [
    {
     "name": "stdout",
     "output_type": "stream",
     "text": [
      "importing Jupyter notebook from 마케팅1_2.ipynb\n"
     ]
    }
   ],
   "source": [
    "import pickle\n",
    "import import_ipynb\n",
    "from 마케팅1_2 import cust_marketing\n",
    "\n",
    "with open('cust_marketing.pickle', 'rb') as fi:\n",
    "    model_marketing = pickle.load(fi)"
   ]
  },
  {
   "cell_type": "code",
   "execution_count": 2,
   "metadata": {},
   "outputs": [
    {
     "name": "stdout",
     "output_type": "stream",
     "text": [
      "고객 번호를 입력하세요 : M430112881\n",
      "\n",
      "M430112881님을 위한 맞춤 추천 상품\n",
      "1. 조개류\n",
      "  1) 전복  2) 바지락  3) 우렁이\n",
      "2. 우유\n",
      "  1) 기능성우유  2) 일반우유\n",
      "3. 수입과일\n",
      "  1) 오렌지  2) 망고  3) 아보카도  4) 바나나  5) 키위\n",
      "\n",
      "General등급 50대 여성이 가장 많이 찾은 상품\n",
      "1. 국산과일\n",
      "  1) 딸기  2) 토마토  3) 사과  4) 귤류  5) 참외\n",
      "2. 잎채소\n",
      "  1) 양파  2) 대파  3) 쌈채소류  4) 상추  5) 시금치\n",
      "3. 스낵류\n",
      "  1) 일반스낵  2) 옥수수스낵  3) 감자스낵  4) 쌀스낵  5) 고구마스낵\n"
     ]
    }
   ],
   "source": [
    "model_marketing.cust_target()"
   ]
  },
  {
   "cell_type": "code",
   "execution_count": 3,
   "metadata": {},
   "outputs": [
    {
     "name": "stdout",
     "output_type": "stream",
     "text": [
      "고객 번호를 입력하세요 : M001\n",
      "\n",
      "신규 고객입니다.\n",
      "\n",
      "나이(20대, 30대, ..., 60대, 70대)와 성별(남성,여성)을 입력해 주세요.\n",
      "20대 여성\n",
      "\n",
      "General등급 20대 여성이 가장 많이 찾은 상품\n",
      "1. 식당\n",
      "  1) 디저트  2) 커피/음료  3) 베이커리  4) 한식  5) 일식\n",
      "2. 스낵류\n",
      "  1) 일반스낵  2) 감자스낵  3) 옥수수스낵  4) 쌀스낵  5) 고구마스낵\n",
      "3. 잎채소\n",
      "  1) 쌈채소류  2) 양파  3) 마늘  4) 깻잎  5) 대파\n"
     ]
    }
   ],
   "source": [
    "model_marketing.cust_target()"
   ]
  }
 ],
 "metadata": {
  "kernelspec": {
   "display_name": "Python 3",
   "language": "python",
   "name": "python3"
  },
  "language_info": {
   "codemirror_mode": {
    "name": "ipython",
    "version": 3
   },
   "file_extension": ".py",
   "mimetype": "text/x-python",
   "name": "python",
   "nbconvert_exporter": "python",
   "pygments_lexer": "ipython3",
   "version": "3.8.2"
  }
 },
 "nbformat": 4,
 "nbformat_minor": 4
}
