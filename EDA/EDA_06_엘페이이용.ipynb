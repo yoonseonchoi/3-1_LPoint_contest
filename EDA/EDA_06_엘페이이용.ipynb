{
 "cells": [
  {
   "cell_type": "code",
   "execution_count": 1,
   "id": "134522aa",
   "metadata": {},
   "outputs": [],
   "source": [
    "import pandas as pd\n",
    "import numpy as np\n",
    "import matplotlib.pyplot as plt"
   ]
  },
  {
   "cell_type": "code",
   "execution_count": 2,
   "id": "f162ff8f",
   "metadata": {},
   "outputs": [
    {
     "data": {
      "text/html": [
       "<div>\n",
       "<style scoped>\n",
       "    .dataframe tbody tr th:only-of-type {\n",
       "        vertical-align: middle;\n",
       "    }\n",
       "\n",
       "    .dataframe tbody tr th {\n",
       "        vertical-align: top;\n",
       "    }\n",
       "\n",
       "    .dataframe thead th {\n",
       "        text-align: right;\n",
       "    }\n",
       "</style>\n",
       "<table border=\"1\" class=\"dataframe\">\n",
       "  <thead>\n",
       "    <tr style=\"text-align: right;\">\n",
       "      <th></th>\n",
       "      <th>cust</th>\n",
       "      <th>rct_no</th>\n",
       "      <th>cop_c</th>\n",
       "      <th>chnl_dv</th>\n",
       "      <th>de_dt</th>\n",
       "      <th>de_hr</th>\n",
       "      <th>buy_am</th>\n",
       "    </tr>\n",
       "  </thead>\n",
       "  <tbody>\n",
       "    <tr>\n",
       "      <th>0</th>\n",
       "      <td>M629656521</td>\n",
       "      <td>210803210311226</td>\n",
       "      <td>A03</td>\n",
       "      <td>1</td>\n",
       "      <td>20210803</td>\n",
       "      <td>21</td>\n",
       "      <td>10900</td>\n",
       "    </tr>\n",
       "    <tr>\n",
       "      <th>1</th>\n",
       "      <td>M216016456</td>\n",
       "      <td>210803130167542</td>\n",
       "      <td>L01</td>\n",
       "      <td>2</td>\n",
       "      <td>20210803</td>\n",
       "      <td>13</td>\n",
       "      <td>6860</td>\n",
       "    </tr>\n",
       "    <tr>\n",
       "      <th>2</th>\n",
       "      <td>M205142844</td>\n",
       "      <td>210803140275112</td>\n",
       "      <td>A02</td>\n",
       "      <td>1</td>\n",
       "      <td>20210803</td>\n",
       "      <td>14</td>\n",
       "      <td>9000</td>\n",
       "    </tr>\n",
       "    <tr>\n",
       "      <th>3</th>\n",
       "      <td>M737010483</td>\n",
       "      <td>210803040637594</td>\n",
       "      <td>A06</td>\n",
       "      <td>2</td>\n",
       "      <td>20210803</td>\n",
       "      <td>4</td>\n",
       "      <td>36740</td>\n",
       "    </tr>\n",
       "    <tr>\n",
       "      <th>4</th>\n",
       "      <td>M707775545</td>\n",
       "      <td>210803140675502</td>\n",
       "      <td>A06</td>\n",
       "      <td>2</td>\n",
       "      <td>20210803</td>\n",
       "      <td>14</td>\n",
       "      <td>138500</td>\n",
       "    </tr>\n",
       "    <tr>\n",
       "      <th>...</th>\n",
       "      <td>...</td>\n",
       "      <td>...</td>\n",
       "      <td>...</td>\n",
       "      <td>...</td>\n",
       "      <td>...</td>\n",
       "      <td>...</td>\n",
       "      <td>...</td>\n",
       "    </tr>\n",
       "    <tr>\n",
       "      <th>353179</th>\n",
       "      <td>M470112503</td>\n",
       "      <td>210125110644545</td>\n",
       "      <td>A06</td>\n",
       "      <td>2</td>\n",
       "      <td>20210125</td>\n",
       "      <td>11</td>\n",
       "      <td>51800</td>\n",
       "    </tr>\n",
       "    <tr>\n",
       "      <th>353180</th>\n",
       "      <td>M470112503</td>\n",
       "      <td>210104210652271</td>\n",
       "      <td>A06</td>\n",
       "      <td>2</td>\n",
       "      <td>20210104</td>\n",
       "      <td>21</td>\n",
       "      <td>6440</td>\n",
       "    </tr>\n",
       "    <tr>\n",
       "      <th>353181</th>\n",
       "      <td>M748878049</td>\n",
       "      <td>210119200278240</td>\n",
       "      <td>A02</td>\n",
       "      <td>1</td>\n",
       "      <td>20210119</td>\n",
       "      <td>20</td>\n",
       "      <td>17600</td>\n",
       "    </tr>\n",
       "    <tr>\n",
       "      <th>353182</th>\n",
       "      <td>M748878049</td>\n",
       "      <td>210119180267206</td>\n",
       "      <td>A02</td>\n",
       "      <td>1</td>\n",
       "      <td>20210119</td>\n",
       "      <td>18</td>\n",
       "      <td>12400</td>\n",
       "    </tr>\n",
       "    <tr>\n",
       "      <th>353183</th>\n",
       "      <td>M748878049</td>\n",
       "      <td>210119150154756</td>\n",
       "      <td>C01</td>\n",
       "      <td>2</td>\n",
       "      <td>20210119</td>\n",
       "      <td>15</td>\n",
       "      <td>5000</td>\n",
       "    </tr>\n",
       "  </tbody>\n",
       "</table>\n",
       "<p>353184 rows × 7 columns</p>\n",
       "</div>"
      ],
      "text/plain": [
       "              cust           rct_no cop_c  chnl_dv     de_dt  de_hr  buy_am\n",
       "0       M629656521  210803210311226   A03        1  20210803     21   10900\n",
       "1       M216016456  210803130167542   L01        2  20210803     13    6860\n",
       "2       M205142844  210803140275112   A02        1  20210803     14    9000\n",
       "3       M737010483  210803040637594   A06        2  20210803      4   36740\n",
       "4       M707775545  210803140675502   A06        2  20210803     14  138500\n",
       "...            ...              ...   ...      ...       ...    ...     ...\n",
       "353179  M470112503  210125110644545   A06        2  20210125     11   51800\n",
       "353180  M470112503  210104210652271   A06        2  20210104     21    6440\n",
       "353181  M748878049  210119200278240   A02        1  20210119     20   17600\n",
       "353182  M748878049  210119180267206   A02        1  20210119     18   12400\n",
       "353183  M748878049  210119150154756   C01        2  20210119     15    5000\n",
       "\n",
       "[353184 rows x 7 columns]"
      ]
     },
     "execution_count": 2,
     "metadata": {},
     "output_type": "execute_result"
    }
   ],
   "source": [
    "df6 = pd.read_csv(\"LPOINT_BIG_COMP_06_LPAY.csv\", sep = ',')\n",
    "df6"
   ]
  },
  {
   "cell_type": "code",
   "execution_count": 3,
   "id": "49d4c29a",
   "metadata": {},
   "outputs": [
    {
     "data": {
      "text/plain": [
       "cust       0\n",
       "rct_no     0\n",
       "cop_c      0\n",
       "chnl_dv    0\n",
       "de_dt      0\n",
       "de_hr      0\n",
       "buy_am     0\n",
       "dtype: int64"
      ]
     },
     "execution_count": 3,
     "metadata": {},
     "output_type": "execute_result"
    }
   ],
   "source": [
    "df6.isnull().sum()"
   ]
  },
  {
   "cell_type": "code",
   "execution_count": 4,
   "id": "5bbc178a",
   "metadata": {},
   "outputs": [
    {
     "data": {
      "text/plain": [
       "cust\n",
       "M000136117     4\n",
       "M000419293    42\n",
       "M000494848    94\n",
       "M000557840    38\n",
       "M000871427     5\n",
       "              ..\n",
       "M999227380     2\n",
       "M999268192    30\n",
       "M999599111    77\n",
       "M999770689    79\n",
       "M999962961    16\n",
       "Length: 8906, dtype: int64"
      ]
     },
     "execution_count": 4,
     "metadata": {},
     "output_type": "execute_result"
    }
   ],
   "source": [
    "df6.groupby(df6['cust']).size()"
   ]
  },
  {
   "cell_type": "code",
   "execution_count": 5,
   "id": "4f71ed8c",
   "metadata": {},
   "outputs": [
    {
     "name": "stdout",
     "output_type": "stream",
     "text": [
      "고객 별 총 이용 금액 (오름차순)\n",
      " cust\n",
      "M929422819          100\n",
      "M620106281          100\n",
      "M799857188          100\n",
      "M109052062          100\n",
      "M672691149          100\n",
      "                ...    \n",
      "M268374518     90482590\n",
      "M384121563    124813061\n",
      "M561426592    134235520\n",
      "M890280911    175271698\n",
      "M619205727    710117779\n",
      "Name: buy_am, Length: 8906, dtype: int64 \n",
      "\n"
     ]
    }
   ],
   "source": [
    "cust_df = pd.DataFrame(df6.groupby(df6['cust']).sum())\n",
    "print('고객 별 총 이용 금액 (오름차순)\\n', cust_df['buy_am'].sort_values(), '\\n')"
   ]
  },
  {
   "cell_type": "code",
   "execution_count": 6,
   "id": "15599bd4",
   "metadata": {
    "scrolled": true
   },
   "outputs": [
    {
     "name": "stdout",
     "output_type": "stream",
     "text": [
      "이용시간\n"
     ]
    },
    {
     "data": {
      "text/plain": [
       "de_hr\n",
       "4       795\n",
       "5       989\n",
       "3      1132\n",
       "6      1950\n",
       "2      2120\n",
       "1      4373\n",
       "7      6285\n",
       "0      8634\n",
       "8      9197\n",
       "9     11793\n",
       "23    12550\n",
       "22    15916\n",
       "10    16587\n",
       "21    18442\n",
       "20    21021\n",
       "14    22589\n",
       "15    22874\n",
       "11    23311\n",
       "16    24031\n",
       "19    24389\n",
       "13    24449\n",
       "17    25155\n",
       "18    27055\n",
       "12    27547\n",
       "dtype: int64"
      ]
     },
     "execution_count": 6,
     "metadata": {},
     "output_type": "execute_result"
    }
   ],
   "source": [
    "print('이용시간')\n",
    "df6.groupby(df6['de_hr']).size().sort_values()"
   ]
  },
  {
   "cell_type": "code",
   "execution_count": 7,
   "id": "62245a94",
   "metadata": {
    "scrolled": false
   },
   "outputs": [
    {
     "data": {
      "text/plain": [
       "cop_c\n",
       "E01      472\n",
       "B01      769\n",
       "C02     1809\n",
       "A05     2604\n",
       "D02     4250\n",
       "C01    11321\n",
       "D01    13101\n",
       "A03    16477\n",
       "L00    22526\n",
       "A04    29243\n",
       "A02    31778\n",
       "A01    54026\n",
       "L01    70939\n",
       "A06    93869\n",
       "dtype: int64"
      ]
     },
     "execution_count": 7,
     "metadata": {},
     "output_type": "execute_result"
    }
   ],
   "source": [
    "df6.groupby(df6['cop_c']).size().sort_values()"
   ]
  },
  {
   "cell_type": "code",
   "execution_count": 8,
   "id": "c1d6e88c",
   "metadata": {},
   "outputs": [
    {
     "data": {
      "text/plain": [
       "chnl_dv\n",
       "1    150010\n",
       "2    203174\n",
       "Name: cust, dtype: int64"
      ]
     },
     "execution_count": 8,
     "metadata": {},
     "output_type": "execute_result"
    }
   ],
   "source": [
    "df6.groupby('chnl_dv')['cust'].count()"
   ]
  },
  {
   "cell_type": "code",
   "execution_count": 18,
   "id": "b00b1f29",
   "metadata": {},
   "outputs": [
    {
     "data": {
      "image/png": "[encoded data removed]",
      "text/plain": [
       "<Figure size 432x288 with 1 Axes>"
      ]
     },
     "metadata": {
      "needs_background": "light"
     },
     "output_type": "display_data"
    }
   ],
   "source": [
    "df6.groupby('chnl_dv')['cust'].count().plot.bar(rot=0)\n",
    "plt.show()"
   ]
  },
  {
   "cell_type": "code",
   "execution_count": 10,
   "id": "108cebf9",
   "metadata": {},
   "outputs": [],
   "source": [
    "df1 = pd.read_csv('LPOINT_BIG_COMP_01_DEMO.csv', sep=',')"
   ]
  },
  {
   "cell_type": "code",
   "execution_count": 11,
   "id": "1f51a62e",
   "metadata": {},
   "outputs": [
    {
     "data": {
      "text/html": [
       "<div>\n",
       "<style scoped>\n",
       "    .dataframe tbody tr th:only-of-type {\n",
       "        vertical-align: middle;\n",
       "    }\n",
       "\n",
       "    .dataframe tbody tr th {\n",
       "        vertical-align: top;\n",
       "    }\n",
       "\n",
       "    .dataframe thead th {\n",
       "        text-align: right;\n",
       "    }\n",
       "</style>\n",
       "<table border=\"1\" class=\"dataframe\">\n",
       "  <thead>\n",
       "    <tr style=\"text-align: right;\">\n",
       "      <th></th>\n",
       "      <th>cust</th>\n",
       "      <th>ma_fem_dv</th>\n",
       "      <th>ages</th>\n",
       "      <th>zon_hlv</th>\n",
       "      <th>rct_no</th>\n",
       "      <th>cop_c</th>\n",
       "      <th>chnl_dv</th>\n",
       "      <th>de_dt</th>\n",
       "      <th>de_hr</th>\n",
       "      <th>buy_am</th>\n",
       "    </tr>\n",
       "  </thead>\n",
       "  <tbody>\n",
       "    <tr>\n",
       "      <th>0</th>\n",
       "      <td>M000136117</td>\n",
       "      <td>여성</td>\n",
       "      <td>30대</td>\n",
       "      <td>Z11</td>\n",
       "      <td>210926220176038</td>\n",
       "      <td>D01</td>\n",
       "      <td>2</td>\n",
       "      <td>20210926</td>\n",
       "      <td>22</td>\n",
       "      <td>15100</td>\n",
       "    </tr>\n",
       "    <tr>\n",
       "      <th>1</th>\n",
       "      <td>M000136117</td>\n",
       "      <td>여성</td>\n",
       "      <td>30대</td>\n",
       "      <td>Z11</td>\n",
       "      <td>211120000687692</td>\n",
       "      <td>A06</td>\n",
       "      <td>2</td>\n",
       "      <td>20211120</td>\n",
       "      <td>0</td>\n",
       "      <td>177301</td>\n",
       "    </tr>\n",
       "    <tr>\n",
       "      <th>2</th>\n",
       "      <td>M000136117</td>\n",
       "      <td>여성</td>\n",
       "      <td>30대</td>\n",
       "      <td>Z11</td>\n",
       "      <td>210104110684235</td>\n",
       "      <td>A06</td>\n",
       "      <td>2</td>\n",
       "      <td>20210104</td>\n",
       "      <td>11</td>\n",
       "      <td>42600</td>\n",
       "    </tr>\n",
       "    <tr>\n",
       "      <th>3</th>\n",
       "      <td>M000136117</td>\n",
       "      <td>여성</td>\n",
       "      <td>30대</td>\n",
       "      <td>Z11</td>\n",
       "      <td>210109140124587</td>\n",
       "      <td>A01</td>\n",
       "      <td>1</td>\n",
       "      <td>20210109</td>\n",
       "      <td>14</td>\n",
       "      <td>902500</td>\n",
       "    </tr>\n",
       "    <tr>\n",
       "      <th>4</th>\n",
       "      <td>M000419293</td>\n",
       "      <td>여성</td>\n",
       "      <td>40대</td>\n",
       "      <td>Z17</td>\n",
       "      <td>211103140120216</td>\n",
       "      <td>D01</td>\n",
       "      <td>2</td>\n",
       "      <td>20211103</td>\n",
       "      <td>14</td>\n",
       "      <td>9900</td>\n",
       "    </tr>\n",
       "    <tr>\n",
       "      <th>...</th>\n",
       "      <td>...</td>\n",
       "      <td>...</td>\n",
       "      <td>...</td>\n",
       "      <td>...</td>\n",
       "      <td>...</td>\n",
       "      <td>...</td>\n",
       "      <td>...</td>\n",
       "      <td>...</td>\n",
       "      <td>...</td>\n",
       "      <td>...</td>\n",
       "    </tr>\n",
       "    <tr>\n",
       "      <th>353179</th>\n",
       "      <td>M999962961</td>\n",
       "      <td>여성</td>\n",
       "      <td>50대</td>\n",
       "      <td>Z17</td>\n",
       "      <td>210724200025828</td>\n",
       "      <td>L00</td>\n",
       "      <td>2</td>\n",
       "      <td>20210724</td>\n",
       "      <td>20</td>\n",
       "      <td>9156</td>\n",
       "    </tr>\n",
       "    <tr>\n",
       "      <th>353180</th>\n",
       "      <td>M999962961</td>\n",
       "      <td>여성</td>\n",
       "      <td>50대</td>\n",
       "      <td>Z17</td>\n",
       "      <td>210214170187495</td>\n",
       "      <td>A01</td>\n",
       "      <td>1</td>\n",
       "      <td>20210214</td>\n",
       "      <td>17</td>\n",
       "      <td>5500</td>\n",
       "    </tr>\n",
       "    <tr>\n",
       "      <th>353181</th>\n",
       "      <td>M999962961</td>\n",
       "      <td>여성</td>\n",
       "      <td>50대</td>\n",
       "      <td>Z17</td>\n",
       "      <td>210214180290789</td>\n",
       "      <td>C02</td>\n",
       "      <td>1</td>\n",
       "      <td>20210214</td>\n",
       "      <td>18</td>\n",
       "      <td>12700</td>\n",
       "    </tr>\n",
       "    <tr>\n",
       "      <th>353182</th>\n",
       "      <td>M999962961</td>\n",
       "      <td>여성</td>\n",
       "      <td>50대</td>\n",
       "      <td>Z17</td>\n",
       "      <td>210113180665862</td>\n",
       "      <td>A06</td>\n",
       "      <td>2</td>\n",
       "      <td>20210113</td>\n",
       "      <td>18</td>\n",
       "      <td>86380</td>\n",
       "    </tr>\n",
       "    <tr>\n",
       "      <th>353183</th>\n",
       "      <td>M999962961</td>\n",
       "      <td>여성</td>\n",
       "      <td>50대</td>\n",
       "      <td>Z17</td>\n",
       "      <td>210117130146991</td>\n",
       "      <td>A01</td>\n",
       "      <td>1</td>\n",
       "      <td>20210117</td>\n",
       "      <td>13</td>\n",
       "      <td>2600000</td>\n",
       "    </tr>\n",
       "  </tbody>\n",
       "</table>\n",
       "<p>353184 rows × 10 columns</p>\n",
       "</div>"
      ],
      "text/plain": [
       "              cust ma_fem_dv ages zon_hlv           rct_no cop_c  chnl_dv  \\\n",
       "0       M000136117        여성  30대     Z11  210926220176038   D01        2   \n",
       "1       M000136117        여성  30대     Z11  211120000687692   A06        2   \n",
       "2       M000136117        여성  30대     Z11  210104110684235   A06        2   \n",
       "3       M000136117        여성  30대     Z11  210109140124587   A01        1   \n",
       "4       M000419293        여성  40대     Z17  211103140120216   D01        2   \n",
       "...            ...       ...  ...     ...              ...   ...      ...   \n",
       "353179  M999962961        여성  50대     Z17  210724200025828   L00        2   \n",
       "353180  M999962961        여성  50대     Z17  210214170187495   A01        1   \n",
       "353181  M999962961        여성  50대     Z17  210214180290789   C02        1   \n",
       "353182  M999962961        여성  50대     Z17  210113180665862   A06        2   \n",
       "353183  M999962961        여성  50대     Z17  210117130146991   A01        1   \n",
       "\n",
       "           de_dt  de_hr   buy_am  \n",
       "0       20210926     22    15100  \n",
       "1       20211120      0   177301  \n",
       "2       20210104     11    42600  \n",
       "3       20210109     14   902500  \n",
       "4       20211103     14     9900  \n",
       "...          ...    ...      ...  \n",
       "353179  20210724     20     9156  \n",
       "353180  20210214     17     5500  \n",
       "353181  20210214     18    12700  \n",
       "353182  20210113     18    86380  \n",
       "353183  20210117     13  2600000  \n",
       "\n",
       "[353184 rows x 10 columns]"
      ]
     },
     "execution_count": 11,
     "metadata": {},
     "output_type": "execute_result"
    }
   ],
   "source": [
    "df16 = pd.merge(df1, df6, on='cust', how='inner')\n",
    "df16"
   ]
  },
  {
   "cell_type": "code",
   "execution_count": 12,
   "id": "0acf8469",
   "metadata": {},
   "outputs": [
    {
     "data": {
      "text/html": [
       "<div>\n",
       "<style scoped>\n",
       "    .dataframe tbody tr th:only-of-type {\n",
       "        vertical-align: middle;\n",
       "    }\n",
       "\n",
       "    .dataframe tbody tr th {\n",
       "        vertical-align: top;\n",
       "    }\n",
       "\n",
       "    .dataframe thead th {\n",
       "        text-align: right;\n",
       "    }\n",
       "</style>\n",
       "<table border=\"1\" class=\"dataframe\">\n",
       "  <thead>\n",
       "    <tr style=\"text-align: right;\">\n",
       "      <th></th>\n",
       "      <th>cust</th>\n",
       "    </tr>\n",
       "    <tr>\n",
       "      <th>ages</th>\n",
       "      <th></th>\n",
       "    </tr>\n",
       "  </thead>\n",
       "  <tbody>\n",
       "    <tr>\n",
       "      <th>20대</th>\n",
       "      <td>26491</td>\n",
       "    </tr>\n",
       "    <tr>\n",
       "      <th>30대</th>\n",
       "      <td>99874</td>\n",
       "    </tr>\n",
       "    <tr>\n",
       "      <th>40대</th>\n",
       "      <td>163346</td>\n",
       "    </tr>\n",
       "    <tr>\n",
       "      <th>50대</th>\n",
       "      <td>55622</td>\n",
       "    </tr>\n",
       "    <tr>\n",
       "      <th>60대</th>\n",
       "      <td>7232</td>\n",
       "    </tr>\n",
       "    <tr>\n",
       "      <th>70대</th>\n",
       "      <td>619</td>\n",
       "    </tr>\n",
       "  </tbody>\n",
       "</table>\n",
       "</div>"
      ],
      "text/plain": [
       "        cust\n",
       "ages        \n",
       "20대    26491\n",
       "30대    99874\n",
       "40대   163346\n",
       "50대    55622\n",
       "60대     7232\n",
       "70대      619"
      ]
     },
     "execution_count": 12,
     "metadata": {},
     "output_type": "execute_result"
    }
   ],
   "source": [
    "df16_ages = pd.DataFrame(df16.groupby('ages')['cust'].count())\n",
    "df16_ages"
   ]
  },
  {
   "cell_type": "code",
   "execution_count": 13,
   "id": "7fff8524",
   "metadata": {},
   "outputs": [
    {
     "name": "stderr",
     "output_type": "stream",
     "text": [
      "C:\\Users\\user\\anaconda3\\lib\\site-packages\\matplotlib\\backends\\backend_agg.py:240: RuntimeWarning: Glyph 45824 missing from current font.\n",
      "  font.set_text(s, 0.0, flags=flags)\n",
      "C:\\Users\\user\\anaconda3\\lib\\site-packages\\matplotlib\\backends\\backend_agg.py:203: RuntimeWarning: Glyph 45824 missing from current font.\n",
      "  font.set_text(s, 0, flags=flags)\n"
     ]
    },
    {
     "data": {
      "image/png": "[encoded data removed]",
      "text/plain": [
       "<Figure size 432x288 with 1 Axes>"
      ]
     },
     "metadata": {},
     "output_type": "display_data"
    }
   ],
   "source": [
    "plt.pie(df16_ages['cust'], labels=df16_ages.index, autopct='%1.2f%%')\n",
    "plt.show()"
   ]
  },
  {
   "cell_type": "code",
   "execution_count": 14,
   "id": "12129030",
   "metadata": {},
   "outputs": [
    {
     "data": {
      "text/plain": [
       "ma_fem_dv\n",
       "남성    110250\n",
       "여성    242934\n",
       "Name: cust, dtype: int64"
      ]
     },
     "execution_count": 14,
     "metadata": {},
     "output_type": "execute_result"
    }
   ],
   "source": [
    "df16.groupby('ma_fem_dv')['cust'].count()"
   ]
  },
  {
   "cell_type": "code",
   "execution_count": 15,
   "id": "7d180999",
   "metadata": {},
   "outputs": [
    {
     "data": {
      "text/html": [
       "<div>\n",
       "<style scoped>\n",
       "    .dataframe tbody tr th:only-of-type {\n",
       "        vertical-align: middle;\n",
       "    }\n",
       "\n",
       "    .dataframe tbody tr th {\n",
       "        vertical-align: top;\n",
       "    }\n",
       "\n",
       "    .dataframe thead th {\n",
       "        text-align: right;\n",
       "    }\n",
       "</style>\n",
       "<table border=\"1\" class=\"dataframe\">\n",
       "  <thead>\n",
       "    <tr style=\"text-align: right;\">\n",
       "      <th></th>\n",
       "      <th>0</th>\n",
       "    </tr>\n",
       "    <tr>\n",
       "      <th>cop_c</th>\n",
       "      <th></th>\n",
       "    </tr>\n",
       "  </thead>\n",
       "  <tbody>\n",
       "    <tr>\n",
       "      <th>A01</th>\n",
       "      <td>54026</td>\n",
       "    </tr>\n",
       "    <tr>\n",
       "      <th>A02</th>\n",
       "      <td>31778</td>\n",
       "    </tr>\n",
       "    <tr>\n",
       "      <th>A03</th>\n",
       "      <td>16477</td>\n",
       "    </tr>\n",
       "    <tr>\n",
       "      <th>A04</th>\n",
       "      <td>29243</td>\n",
       "    </tr>\n",
       "    <tr>\n",
       "      <th>A05</th>\n",
       "      <td>2604</td>\n",
       "    </tr>\n",
       "    <tr>\n",
       "      <th>A06</th>\n",
       "      <td>93869</td>\n",
       "    </tr>\n",
       "    <tr>\n",
       "      <th>B01</th>\n",
       "      <td>769</td>\n",
       "    </tr>\n",
       "    <tr>\n",
       "      <th>C01</th>\n",
       "      <td>11321</td>\n",
       "    </tr>\n",
       "    <tr>\n",
       "      <th>C02</th>\n",
       "      <td>1809</td>\n",
       "    </tr>\n",
       "    <tr>\n",
       "      <th>D01</th>\n",
       "      <td>13101</td>\n",
       "    </tr>\n",
       "    <tr>\n",
       "      <th>D02</th>\n",
       "      <td>4250</td>\n",
       "    </tr>\n",
       "    <tr>\n",
       "      <th>E01</th>\n",
       "      <td>472</td>\n",
       "    </tr>\n",
       "    <tr>\n",
       "      <th>L00</th>\n",
       "      <td>22526</td>\n",
       "    </tr>\n",
       "    <tr>\n",
       "      <th>L01</th>\n",
       "      <td>70939</td>\n",
       "    </tr>\n",
       "  </tbody>\n",
       "</table>\n",
       "</div>"
      ],
      "text/plain": [
       "           0\n",
       "cop_c       \n",
       "A01    54026\n",
       "A02    31778\n",
       "A03    16477\n",
       "A04    29243\n",
       "A05     2604\n",
       "A06    93869\n",
       "B01      769\n",
       "C01    11321\n",
       "C02     1809\n",
       "D01    13101\n",
       "D02     4250\n",
       "E01      472\n",
       "L00    22526\n",
       "L01    70939"
      ]
     },
     "execution_count": 15,
     "metadata": {},
     "output_type": "execute_result"
    }
   ],
   "source": [
    "df6_cop = pd.DataFrame(df6.groupby(df6['cop_c']).size())\n",
    "df6_cop"
   ]
  },
  {
   "cell_type": "code",
   "execution_count": 16,
   "id": "6310bd1f",
   "metadata": {
    "scrolled": false
   },
   "outputs": [
    {
     "data": {
      "image/png": "[encoded data removed]",
      "text/plain": [
       "<Figure size 432x288 with 1 Axes>"
      ]
     },
     "metadata": {},
     "output_type": "display_data"
    }
   ],
   "source": [
    "wedgeprops = {'width':0.7,'edgecolor':'w','linewidth':3}\n",
    "colors = ['whitesmoke', 'whitesmoke', 'whitesmoke','whitesmoke','whitesmoke','whitesmoke','whitesmoke','whitesmoke','whitesmoke','whitesmoke','whitesmoke','whitesmoke', 'whitesmoke','gold']\n",
    "plt.pie(df6_cop[0], labels=df6_cop.index, autopct='%1.1f%%', wedgeprops=wedgeprops, colors=colors)\n",
    "plt.show()"
   ]
  },
  {
   "cell_type": "code",
   "execution_count": 17,
   "id": "ed843da7",
   "metadata": {},
   "outputs": [
    {
     "data": {
      "text/plain": [
       "chnl_dv\n",
       "1     1182\n",
       "2    69757\n",
       "Name: cust, dtype: int64"
      ]
     },
     "execution_count": 17,
     "metadata": {},
     "output_type": "execute_result"
    }
   ],
   "source": [
    "df6[df6['cop_c']=='L01'].groupby('chnl_dv')['cust'].count()"
   ]
  },
  {
   "cell_type": "code",
   "execution_count": null,
   "id": "70be04b2",
   "metadata": {},
   "outputs": [],
   "source": []
  }
 ],
 "metadata": {
  "kernelspec": {
   "display_name": "Python 3 (ipykernel)",
   "language": "python",
   "name": "python3"
  },
  "language_info": {
   "codemirror_mode": {
    "name": "ipython",
    "version": 3
   },
   "file_extension": ".py",
   "mimetype": "text/x-python",
   "name": "python",
   "nbconvert_exporter": "python",
   "pygments_lexer": "ipython3",
   "version": "3.9.7"
  }
 },
 "nbformat": 4,
 "nbformat_minor": 5
}
